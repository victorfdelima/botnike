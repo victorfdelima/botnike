{
 "cells": [
  {
   "cell_type": "code",
   "execution_count": 19,
   "id": "902f67a0",
   "metadata": {},
   "outputs": [
    {
     "name": "stdout",
     "output_type": "stream",
     "text": [
      "Maxmilliam Bot Diz: Entrei no site..!\n",
      "Maxmilliam Bot Diz: Consegui fazer login!\n"
     ]
    },
    {
     "ename": "AttributeError",
     "evalue": "'WebDriver' object has no attribute 'webElement'",
     "output_type": "error",
     "traceback": [
      "\u001b[1;31m---------------------------------------------------------------------------\u001b[0m",
      "\u001b[1;31mAttributeError\u001b[0m                            Traceback (most recent call last)",
      "\u001b[1;32m<ipython-input-19-e12d05b5aeb9>\u001b[0m in \u001b[0;36m<module>\u001b[1;34m\u001b[0m\n\u001b[0;32m     41\u001b[0m \u001b[0mwebElement\u001b[0m \u001b[1;33m=\u001b[0m \u001b[0mdriver\u001b[0m\u001b[1;33m.\u001b[0m\u001b[0mfind_element_by_xpath\u001b[0m\u001b[1;33m(\u001b[0m\u001b[1;34m'//*[@id=\"modal2fa-state-0\"]'\u001b[0m\u001b[1;33m)\u001b[0m\u001b[1;33m.\u001b[0m\u001b[0mclick\u001b[0m\u001b[1;33m\u001b[0m\u001b[1;33m\u001b[0m\u001b[0m\n\u001b[0;32m     42\u001b[0m \u001b[0mtime\u001b[0m\u001b[1;33m.\u001b[0m\u001b[0msleep\u001b[0m\u001b[1;33m(\u001b[0m\u001b[1;36m1\u001b[0m\u001b[1;33m)\u001b[0m\u001b[1;33m\u001b[0m\u001b[1;33m\u001b[0m\u001b[0m\n\u001b[1;32m---> 43\u001b[1;33m \u001b[0mdriver\u001b[0m\u001b[1;33m.\u001b[0m\u001b[0mwebElement\u001b[0m\u001b[1;33m.\u001b[0m\u001b[0msend_keys\u001b[0m\u001b[1;33m(\u001b[0m\u001b[0mKeys\u001b[0m\u001b[1;33m.\u001b[0m\u001b[0mTAB\u001b[0m\u001b[1;33m)\u001b[0m\u001b[1;33m\u001b[0m\u001b[1;33m\u001b[0m\u001b[0m\n\u001b[0m\u001b[0;32m     44\u001b[0m \u001b[1;33m\u001b[0m\u001b[0m\n\u001b[0;32m     45\u001b[0m \u001b[1;33m\u001b[0m\u001b[0m\n",
      "\u001b[1;31mAttributeError\u001b[0m: 'WebDriver' object has no attribute 'webElement'"
     ]
    }
   ],
   "source": [
    "#!/usr/bin/env python\n",
    "# coding: utf-8\n",
    "\n",
    "from selenium import webdriver\n",
    "from selenium.webdriver.common.by import By\n",
    "from selenium.webdriver.common.keys import Keys\n",
    "from selenium.webdriver.support.ui import WebDriverWait\n",
    "from selenium.common.exceptions import NoSuchElementException\n",
    "from selenium.webdriver.support.expected_conditions import presence_of_element_located\n",
    "import time\n",
    "\n",
    "\n",
    "botName = 'Maxmilliam Bot'\n",
    "driver = webdriver.Firefox();\n",
    "driver.maximize_window()\n",
    "driver.get(\"https://unite.nike.com.br/oauth.html?client_id=QLegGiUU042XMAUWE4qWL3fPUIrpQTnq&redirect_uri=https%3A%2F%2Fwww.nike.com.br%2Fapi%2Fv2%2Fauth%2Fnike-unite%2Fset&response_type=code&locale=pt_BR&state=%2F\");\n",
    "time.sleep(1);\n",
    "print(f\"{botName} Diz: Entrei no site..!\")\n",
    "\n",
    "#INPUTA OS DADOS, EMAIL E SENHA\n",
    "time.sleep(1);\n",
    "driver.find_element_by_name('emailAddress').click();\n",
    "time.sleep(0.7);\n",
    "driver.find_element_by_name('emailAddress').send_keys('vittinferreira@gmail.com', Keys.TAB);\n",
    "time.sleep(0.5);\n",
    "driver.find_element_by_name('password');\n",
    "time.sleep(0.5);\n",
    "driver.find_element_by_name('password').send_keys('82384580vV!');\n",
    "time.sleep(0.8);\n",
    "driver.find_element_by_xpath('/html/body/div[7]/form/div[6]/input').click();\n",
    "print(f\"{botName} Diz: Consegui fazer login!\");\n",
    "time.sleep(4);\n",
    "driver.get(\"https://www.nike.com.br/nike-dunk-low-retro-153-169-211-341232\");\n",
    "time.sleep(1.5);\n",
    "driver.execute_script(\"window.scrollTo(0, 500)\");\n",
    "time.sleep(3);\n",
    "driver.find_element_by_css_selector('.variacoes-tamanhos__lista > li:nth-child(13) > label:nth-child(2)').click();\n",
    "time.sleep(1);\n",
    "driver.find_element_by_xpath('//*[@id=\"btn-comprar\"]').click()\n",
    "time.sleep(1)\n",
    "webElement = driver.find_element_by_xpath('//*[@id=\"modal2fa-state-0\"]').click\n",
    "time.sleep(1)\n",
    "webElement = driver.find_element_by_xpath('//*[@id=\"modal2fa-state-0\"]').send_keys(Keys.TAB)\n",
    "time.sleep(0.8)\n",
    "webElement = driver.find_element_by_xpath('//*[@id=\"modal2fa-state-0\"]').send_keys(Keys.TAB)\n",
    "\n"
   ]
  },
  {
   "cell_type": "code",
   "execution_count": null,
   "id": "21aeabd9",
   "metadata": {},
   "outputs": [],
   "source": []
  },
  {
   "cell_type": "code",
   "execution_count": null,
   "id": "66a7d547",
   "metadata": {},
   "outputs": [],
   "source": []
  }
 ],
 "metadata": {
  "kernelspec": {
   "display_name": "Python 3",
   "language": "python",
   "name": "python3"
  },
  "language_info": {
   "codemirror_mode": {
    "name": "ipython",
    "version": 3
   },
   "file_extension": ".py",
   "mimetype": "text/x-python",
   "name": "python",
   "nbconvert_exporter": "python",
   "pygments_lexer": "ipython3",
   "version": "3.8.8"
  }
 },
 "nbformat": 4,
 "nbformat_minor": 5
}
